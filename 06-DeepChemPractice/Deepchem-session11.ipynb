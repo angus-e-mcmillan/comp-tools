{
 "cells": [
  {
   "cell_type": "code",
   "execution_count": 1,
   "metadata": {},
   "outputs": [
    {
     "name": "stdout",
     "output_type": "stream",
     "text": [
      "Requirement already satisfied: deepchem in c:\\users\\angus.mcmillan\\comp-tools\\.conda\\lib\\site-packages (2.8.1.dev20240617204840)\n",
      "Requirement already satisfied: joblib in c:\\users\\angus.mcmillan\\comp-tools\\.conda\\lib\\site-packages (from deepchem) (1.4.2)\n",
      "Requirement already satisfied: numpy<2 in c:\\users\\angus.mcmillan\\comp-tools\\.conda\\lib\\site-packages (from deepchem) (1.26.4)\n",
      "Requirement already satisfied: pandas in c:\\users\\angus.mcmillan\\comp-tools\\.conda\\lib\\site-packages (from deepchem) (2.1.4)\n",
      "Requirement already satisfied: scikit-learn in c:\\users\\angus.mcmillan\\comp-tools\\.conda\\lib\\site-packages (from deepchem) (1.5.0)\n",
      "Requirement already satisfied: sympy in c:\\users\\angus.mcmillan\\comp-tools\\.conda\\lib\\site-packages (from deepchem) (1.13.0rc2)\n",
      "Requirement already satisfied: scipy>=1.10.1 in c:\\users\\angus.mcmillan\\comp-tools\\.conda\\lib\\site-packages (from deepchem) (1.14.0rc2)\n",
      "Requirement already satisfied: rdkit in c:\\users\\angus.mcmillan\\comp-tools\\.conda\\lib\\site-packages (from deepchem) (2023.9.6)\n",
      "Requirement already satisfied: python-dateutil>=2.8.2 in c:\\users\\angus.mcmillan\\comp-tools\\.conda\\lib\\site-packages (from pandas->deepchem) (2.9.0)\n",
      "Requirement already satisfied: pytz>=2020.1 in c:\\users\\angus.mcmillan\\comp-tools\\.conda\\lib\\site-packages (from pandas->deepchem) (2024.1)\n",
      "Requirement already satisfied: tzdata>=2022.1 in c:\\users\\angus.mcmillan\\comp-tools\\.conda\\lib\\site-packages (from pandas->deepchem) (2023.3)\n",
      "Requirement already satisfied: Pillow in c:\\users\\angus.mcmillan\\comp-tools\\.conda\\lib\\site-packages (from rdkit->deepchem) (10.3.0)\n",
      "Requirement already satisfied: threadpoolctl>=3.1.0 in c:\\users\\angus.mcmillan\\comp-tools\\.conda\\lib\\site-packages (from scikit-learn->deepchem) (3.5.0)\n",
      "Requirement already satisfied: mpmath<1.4,>=1.1.0 in c:\\users\\angus.mcmillan\\comp-tools\\.conda\\lib\\site-packages (from sympy->deepchem) (1.3.0)\n",
      "Requirement already satisfied: six>=1.5 in c:\\users\\angus.mcmillan\\comp-tools\\.conda\\lib\\site-packages (from python-dateutil>=2.8.2->pandas->deepchem) (1.16.0)\n"
     ]
    },
    {
     "name": "stderr",
     "output_type": "stream",
     "text": [
      "No normalization for SPS. Feature removed!\n",
      "No normalization for AvgIpc. Feature removed!\n",
      "Skipped loading modules with pytorch-geometric dependency, missing a dependency. No module named 'torch_geometric'\n",
      "Skipped loading modules with transformers dependency. No module named 'transformers'\n",
      "cannot import name 'HuggingFaceModel' from 'deepchem.models.torch_models' (c:\\Users\\angus.mcmillan\\comp-tools\\.conda\\Lib\\site-packages\\deepchem\\models\\torch_models\\__init__.py)\n",
      "Skipped loading modules with pytorch-geometric dependency, missing a dependency. cannot import name 'DMPNN' from 'deepchem.models.torch_models' (c:\\Users\\angus.mcmillan\\comp-tools\\.conda\\Lib\\site-packages\\deepchem\\models\\torch_models\\__init__.py)\n",
      "Skipped loading modules with pytorch-lightning dependency, missing a dependency. No module named 'lightning'\n",
      "Skipped loading some Jax models, missing a dependency. No module named 'jax'\n"
     ]
    },
    {
     "data": {
      "text/plain": [
       "'2.8.1.dev'"
      ]
     },
     "execution_count": 1,
     "metadata": {},
     "output_type": "execute_result"
    }
   ],
   "source": [
    "!pip install --pre deepchem\n",
    "import deepchem\n",
    "deepchem.__version__"
   ]
  },
  {
   "cell_type": "code",
   "execution_count": 2,
   "metadata": {},
   "outputs": [
    {
     "name": "stderr",
     "output_type": "stream",
     "text": [
      "'split' is deprecated.  Use 'splitter' instead.\n"
     ]
    }
   ],
   "source": [
    "import deepchem as dc\n",
    "import numpy as np\n",
    "\n",
    "tasks, datasets, transformers = dc.molnet.load_muv(split='stratified')\n",
    "train_dataset, valid_dataset, test_dataset = datasets"
   ]
  },
  {
   "cell_type": "code",
   "execution_count": 3,
   "metadata": {},
   "outputs": [
    {
     "data": {
      "text/plain": [
       "0.06959682464599609"
      ]
     },
     "execution_count": 3,
     "metadata": {},
     "output_type": "execute_result"
    }
   ],
   "source": [
    "n_tasks = len(tasks)\n",
    "n_features = train_dataset.get_data_shape()[0]\n",
    "model = dc.models.MultitaskClassifier(n_tasks, n_features)\n",
    "model.fit(train_dataset)"
   ]
  },
  {
   "cell_type": "code",
   "execution_count": 4,
   "metadata": {},
   "outputs": [
    {
     "name": "stdout",
     "output_type": "stream",
     "text": [
      "MUV-466 0.7655651083646785\n",
      "MUV-548 0.9156277986745477\n",
      "MUV-600 0.680055525703027\n",
      "MUV-644 0.7452534479670427\n",
      "MUV-652 0.6354648038688877\n",
      "MUV-689 0.9439369514597886\n",
      "MUV-692 0.5347483431846678\n",
      "MUV-712 0.5952176249328318\n",
      "MUV-713 0.49523553644993734\n",
      "MUV-733 0.6879903277807631\n",
      "MUV-737 0.5381336199176071\n",
      "MUV-810 0.903179294286226\n",
      "MUV-832 0.9952892710012538\n",
      "MUV-846 0.9908293032419846\n",
      "MUV-852 0.8013702310585706\n",
      "MUV-858 0.7129589826258284\n",
      "MUV-859 0.59107027724049\n"
     ]
    }
   ],
   "source": [
    "y_true = test_dataset.y\n",
    "y_pred = model.predict(test_dataset)\n",
    "metric = dc.metrics.roc_auc_score\n",
    "for i in range(n_tasks):\n",
    "    score = metric(dc.metrics.to_one_hot(y_true[:,i]), y_pred[:,i])\n",
    "    print(tasks[i], score)"
   ]
  },
  {
   "cell_type": "code",
   "execution_count": null,
   "metadata": {},
   "outputs": [],
   "source": []
  }
 ],
 "metadata": {
  "kernelspec": {
   "display_name": "Python 3",
   "language": "python",
   "name": "python3"
  },
  "language_info": {
   "codemirror_mode": {
    "name": "ipython",
    "version": 3
   },
   "file_extension": ".py",
   "mimetype": "text/x-python",
   "name": "python",
   "nbconvert_exporter": "python",
   "pygments_lexer": "ipython3",
   "version": "3.11.9"
  }
 },
 "nbformat": 4,
 "nbformat_minor": 2
}
