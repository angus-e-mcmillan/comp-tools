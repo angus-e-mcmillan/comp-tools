{
 "cells": [
  {
   "cell_type": "code",
   "execution_count": 1,
   "metadata": {},
   "outputs": [
    {
     "name": "stdout",
     "output_type": "stream",
     "text": [
      "Requirement already satisfied: deepchem in c:\\users\\angus.mcmillan\\comp-tools\\.conda\\lib\\site-packages (2.8.1.dev20240617204840)\n",
      "Requirement already satisfied: joblib in c:\\users\\angus.mcmillan\\comp-tools\\.conda\\lib\\site-packages (from deepchem) (1.4.2)\n",
      "Requirement already satisfied: numpy<2 in c:\\users\\angus.mcmillan\\comp-tools\\.conda\\lib\\site-packages (from deepchem) (1.26.4)\n",
      "Requirement already satisfied: pandas in c:\\users\\angus.mcmillan\\comp-tools\\.conda\\lib\\site-packages (from deepchem) (2.1.4)\n",
      "Requirement already satisfied: scikit-learn in c:\\users\\angus.mcmillan\\comp-tools\\.conda\\lib\\site-packages (from deepchem) (1.5.0)\n",
      "Requirement already satisfied: sympy in c:\\users\\angus.mcmillan\\comp-tools\\.conda\\lib\\site-packages (from deepchem) (1.13.0rc2)\n",
      "Requirement already satisfied: scipy>=1.10.1 in c:\\users\\angus.mcmillan\\comp-tools\\.conda\\lib\\site-packages (from deepchem) (1.14.0rc2)\n",
      "Requirement already satisfied: rdkit in c:\\users\\angus.mcmillan\\comp-tools\\.conda\\lib\\site-packages (from deepchem) (2023.9.6)\n",
      "Requirement already satisfied: python-dateutil>=2.8.2 in c:\\users\\angus.mcmillan\\comp-tools\\.conda\\lib\\site-packages (from pandas->deepchem) (2.9.0)\n",
      "Requirement already satisfied: pytz>=2020.1 in c:\\users\\angus.mcmillan\\comp-tools\\.conda\\lib\\site-packages (from pandas->deepchem) (2024.1)\n",
      "Requirement already satisfied: tzdata>=2022.1 in c:\\users\\angus.mcmillan\\comp-tools\\.conda\\lib\\site-packages (from pandas->deepchem) (2024.1)\n",
      "Requirement already satisfied: Pillow in c:\\users\\angus.mcmillan\\comp-tools\\.conda\\lib\\site-packages (from rdkit->deepchem) (10.3.0)\n",
      "Requirement already satisfied: threadpoolctl>=3.1.0 in c:\\users\\angus.mcmillan\\comp-tools\\.conda\\lib\\site-packages (from scikit-learn->deepchem) (3.5.0)\n",
      "Requirement already satisfied: mpmath<1.4,>=1.1.0 in c:\\users\\angus.mcmillan\\comp-tools\\.conda\\lib\\site-packages (from sympy->deepchem) (1.3.0)\n",
      "Requirement already satisfied: six>=1.5 in c:\\users\\angus.mcmillan\\comp-tools\\.conda\\lib\\site-packages (from python-dateutil>=2.8.2->pandas->deepchem) (1.16.0)\n"
     ]
    }
   ],
   "source": [
    "!pip install --pre deepchem"
   ]
  },
  {
   "cell_type": "code",
   "execution_count": 2,
   "metadata": {},
   "outputs": [
    {
     "name": "stderr",
     "output_type": "stream",
     "text": [
      "No normalization for SPS. Feature removed!\n",
      "No normalization for AvgIpc. Feature removed!\n",
      "Skipped loading modules with pytorch-geometric dependency, missing a dependency. No module named 'torch_geometric'\n",
      "Skipped loading modules with transformers dependency. No module named 'transformers'\n",
      "cannot import name 'HuggingFaceModel' from 'deepchem.models.torch_models' (c:\\Users\\angus.mcmillan\\comp-tools\\.conda\\Lib\\site-packages\\deepchem\\models\\torch_models\\__init__.py)\n",
      "Skipped loading modules with pytorch-geometric dependency, missing a dependency. cannot import name 'DMPNN' from 'deepchem.models.torch_models' (c:\\Users\\angus.mcmillan\\comp-tools\\.conda\\Lib\\site-packages\\deepchem\\models\\torch_models\\__init__.py)\n",
      "Skipped loading modules with pytorch-lightning dependency, missing a dependency. No module named 'lightning'\n",
      "Skipped loading some Jax models, missing a dependency. No module named 'jax'\n"
     ]
    }
   ],
   "source": [
    "import deepchem as dc\n",
    "import tensorflow as tf\n",
    "\n",
    "keras_model = tf.keras.Sequential([\n",
    "    tf.keras.layers.Dense(1000, activation='relu'),\n",
    "    tf.keras.layers.Dropout(rate=0.5),\n",
    "    tf.keras.layers.Dense(1)\n",
    "])\n",
    "model = dc.models.KerasModel(keras_model, dc.models.losses.L2Loss())"
   ]
  },
  {
   "cell_type": "code",
   "execution_count": 3,
   "metadata": {},
   "outputs": [
    {
     "name": "stdout",
     "output_type": "stream",
     "text": [
      "training set score: {'pearson_r2_score': 0.9812670789300214}\n",
      "test set score: {'pearson_r2_score': 0.7719637681540579}\n"
     ]
    }
   ],
   "source": [
    "tasks, datasets, transformers = dc.molnet.load_delaney(featurizer='ECFP', splitter='random')\n",
    "train_dataset, valid_dataset, test_dataset = datasets\n",
    "model.fit(train_dataset, nb_epoch=50)\n",
    "metric = dc.metrics.Metric(dc.metrics.pearson_r2_score)\n",
    "print('training set score:', model.evaluate(train_dataset, [metric]))\n",
    "print('test set score:', model.evaluate(test_dataset, [metric]))"
   ]
  },
  {
   "cell_type": "code",
   "execution_count": 4,
   "metadata": {},
   "outputs": [
    {
     "name": "stdout",
     "output_type": "stream",
     "text": [
      "training set score: {'pearson_r2_score': 0.982095254737644}\n",
      "test set score: {'pearson_r2_score': 0.7550164238224198}\n"
     ]
    }
   ],
   "source": [
    "import torch\n",
    "\n",
    "pytorch_model = torch.nn.Sequential(\n",
    "    torch.nn.Linear(1024, 1000),\n",
    "    torch.nn.ReLU(),\n",
    "    torch.nn.Dropout(0.5),\n",
    "    torch.nn.Linear(1000, 1)\n",
    ")\n",
    "model = dc.models.TorchModel(pytorch_model, dc.models.losses.L2Loss())\n",
    "\n",
    "model.fit(train_dataset, nb_epoch=50)\n",
    "print('training set score:', model.evaluate(train_dataset, [metric]))\n",
    "print('test set score:', model.evaluate(test_dataset, [metric]))"
   ]
  },
  {
   "cell_type": "code",
   "execution_count": 5,
   "metadata": {},
   "outputs": [],
   "source": [
    "class ClassificationModel(tf.keras.Model):\n",
    "    \n",
    "    def __init__(self):\n",
    "        super(ClassificationModel, self).__init__()\n",
    "        self.dense1 = tf.keras.layers.Dense(1000, activation='relu')\n",
    "        self.dense2 = tf.keras.layers.Dense(1)\n",
    "\n",
    "    def call(self, inputs, training=False):\n",
    "        y = self.dense1(inputs)\n",
    "        if training:\n",
    "            y = tf.nn.dropout(y, 0.5)\n",
    "        logits = self.dense2(y)\n",
    "        output = tf.nn.sigmoid(logits)\n",
    "        return output, logits\n",
    "\n",
    "keras_model = ClassificationModel()\n",
    "output_types = ['prediction', 'loss']\n",
    "model = dc.models.KerasModel(keras_model, dc.models.losses.SigmoidCrossEntropy(), output_types=output_types)"
   ]
  },
  {
   "cell_type": "code",
   "execution_count": 6,
   "metadata": {},
   "outputs": [
    {
     "name": "stdout",
     "output_type": "stream",
     "text": [
      "training set score: {'roc_auc_score': 0.9996116504854369}\n",
      "test set score: {'roc_auc_score': 0.7663949275362318}\n"
     ]
    }
   ],
   "source": [
    "tasks, datasets, transformers = dc.molnet.load_bace_classification(feturizer='ECFP', splitter='scaffold')\n",
    "train_dataset, valid_dataset, test_dataset = datasets\n",
    "model.fit(train_dataset, nb_epoch=100)\n",
    "metric = dc.metrics.Metric(dc.metrics.roc_auc_score)\n",
    "print('training set score:', model.evaluate(train_dataset, [metric]))\n",
    "print('test set score:', model.evaluate(test_dataset, [metric]))"
   ]
  },
  {
   "cell_type": "code",
   "execution_count": 7,
   "metadata": {},
   "outputs": [],
   "source": [
    "class ClassificationModel(torch.nn.Module):\n",
    "    \n",
    "    def __init__(self):\n",
    "        super(ClassificationModel, self).__init__()\n",
    "        self.dense1 = torch.nn.Linear(1024, 1000)\n",
    "        self.dense2 = torch.nn.Linear(1000, 1)\n",
    "\n",
    "    def forward(self, inputs):\n",
    "        y = torch.nn.functional.relu( self.dense1(inputs) )\n",
    "        y = torch.nn.functional.dropout(y, p=0.5, training=self.training)\n",
    "        logits = self.dense2(y)\n",
    "        output = torch.sigmoid(logits)\n",
    "        return output, logits\n",
    "\n",
    "torch_model = ClassificationModel()\n",
    "output_types = ['prediction', 'loss']\n",
    "model = dc.models.TorchModel(torch_model, dc.models.losses.SigmoidCrossEntropy(), output_types=output_types)"
   ]
  },
  {
   "cell_type": "code",
   "execution_count": null,
   "metadata": {},
   "outputs": [],
   "source": []
  }
 ],
 "metadata": {
  "kernelspec": {
   "display_name": "Python 3",
   "language": "python",
   "name": "python3"
  },
  "language_info": {
   "codemirror_mode": {
    "name": "ipython",
    "version": 3
   },
   "file_extension": ".py",
   "mimetype": "text/x-python",
   "name": "python",
   "nbconvert_exporter": "python",
   "pygments_lexer": "ipython3",
   "version": "3.11.9"
  }
 },
 "nbformat": 4,
 "nbformat_minor": 2
}
