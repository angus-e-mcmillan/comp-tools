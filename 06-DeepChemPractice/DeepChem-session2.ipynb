{
 "cells": [
  {
   "cell_type": "code",
   "execution_count": 15,
   "metadata": {},
   "outputs": [
    {
     "name": "stdout",
     "output_type": "stream",
     "text": [
      "An Introduction to MoleculeNet\n"
     ]
    }
   ],
   "source": [
    "print(\"An Introduction to MoleculeNet\")"
   ]
  },
  {
   "cell_type": "code",
   "execution_count": 16,
   "metadata": {},
   "outputs": [],
   "source": [
    "#For details check https://deepchem.readthedocs.io/en/latest/moleculenet.html"
   ]
  },
  {
   "cell_type": "code",
   "execution_count": 17,
   "metadata": {},
   "outputs": [
    {
     "name": "stdout",
     "output_type": "stream",
     "text": [
      "Requirement already satisfied: deepchem in c:\\users\\angus.mcmillan\\comp-tools\\.conda\\lib\\site-packages (2.8.1.dev20240617204840)\n",
      "Requirement already satisfied: joblib in c:\\users\\angus.mcmillan\\comp-tools\\.conda\\lib\\site-packages (from deepchem) (1.4.2)\n",
      "Requirement already satisfied: numpy<2 in c:\\users\\angus.mcmillan\\comp-tools\\.conda\\lib\\site-packages (from deepchem) (1.26.4)\n",
      "Requirement already satisfied: pandas in c:\\users\\angus.mcmillan\\comp-tools\\.conda\\lib\\site-packages (from deepchem) (2.1.4)\n",
      "Requirement already satisfied: scikit-learn in c:\\users\\angus.mcmillan\\comp-tools\\.conda\\lib\\site-packages (from deepchem) (1.5.0)\n",
      "Requirement already satisfied: sympy in c:\\users\\angus.mcmillan\\comp-tools\\.conda\\lib\\site-packages (from deepchem) (1.13.0rc2)\n",
      "Requirement already satisfied: scipy>=1.10.1 in c:\\users\\angus.mcmillan\\comp-tools\\.conda\\lib\\site-packages (from deepchem) (1.14.0rc2)\n",
      "Requirement already satisfied: rdkit in c:\\users\\angus.mcmillan\\comp-tools\\.conda\\lib\\site-packages (from deepchem) (2023.9.6)\n",
      "Requirement already satisfied: python-dateutil>=2.8.2 in c:\\users\\angus.mcmillan\\comp-tools\\.conda\\lib\\site-packages (from pandas->deepchem) (2.9.0)\n",
      "Requirement already satisfied: pytz>=2020.1 in c:\\users\\angus.mcmillan\\comp-tools\\.conda\\lib\\site-packages (from pandas->deepchem) (2024.1)\n",
      "Requirement already satisfied: tzdata>=2022.1 in c:\\users\\angus.mcmillan\\comp-tools\\.conda\\lib\\site-packages (from pandas->deepchem) (2024.1)\n",
      "Requirement already satisfied: Pillow in c:\\users\\angus.mcmillan\\comp-tools\\.conda\\lib\\site-packages (from rdkit->deepchem) (10.3.0)\n",
      "Requirement already satisfied: threadpoolctl>=3.1.0 in c:\\users\\angus.mcmillan\\comp-tools\\.conda\\lib\\site-packages (from scikit-learn->deepchem) (3.5.0)\n",
      "Requirement already satisfied: mpmath<1.4,>=1.1.0 in c:\\users\\angus.mcmillan\\comp-tools\\.conda\\lib\\site-packages (from sympy->deepchem) (1.3.0)\n",
      "Requirement already satisfied: six>=1.5 in c:\\users\\angus.mcmillan\\comp-tools\\.conda\\lib\\site-packages (from python-dateutil>=2.8.2->pandas->deepchem) (1.16.0)\n",
      "Note: you may need to restart the kernel to use updated packages.\n"
     ]
    }
   ],
   "source": [
    "pip install --pre deepchem"
   ]
  },
  {
   "cell_type": "code",
   "execution_count": 18,
   "metadata": {},
   "outputs": [
    {
     "data": {
      "text/plain": [
       "'2.8.1.dev'"
      ]
     },
     "execution_count": 18,
     "metadata": {},
     "output_type": "execute_result"
    }
   ],
   "source": [
    "import deepchem as dc\n",
    "dc.__version__"
   ]
  },
  {
   "cell_type": "code",
   "execution_count": 19,
   "metadata": {},
   "outputs": [],
   "source": [
    "tasks, datasets, transformers = dc.molnet.load_delaney(featurizer='GraphConv', splitter='random')"
   ]
  },
  {
   "cell_type": "code",
   "execution_count": 20,
   "metadata": {},
   "outputs": [
    {
     "data": {
      "text/plain": [
       "['load_Platinum_Adsorption',\n",
       " 'load_bace_classification',\n",
       " 'load_bace_regression',\n",
       " 'load_bandgap',\n",
       " 'load_bbbc001',\n",
       " 'load_bbbc002',\n",
       " 'load_bbbc003',\n",
       " 'load_bbbc004',\n",
       " 'load_bbbc005',\n",
       " 'load_bbbp',\n",
       " 'load_cell_counting',\n",
       " 'load_chembl',\n",
       " 'load_chembl25',\n",
       " 'load_clearance',\n",
       " 'load_clintox',\n",
       " 'load_delaney',\n",
       " 'load_factors',\n",
       " 'load_freesolv',\n",
       " 'load_function',\n",
       " 'load_hiv',\n",
       " 'load_hopv',\n",
       " 'load_hppb',\n",
       " 'load_kaggle',\n",
       " 'load_kinase',\n",
       " 'load_lipo',\n",
       " 'load_mp_formation_energy',\n",
       " 'load_mp_metallicity',\n",
       " 'load_muv',\n",
       " 'load_nci',\n",
       " 'load_pcba',\n",
       " 'load_pdbbind',\n",
       " 'load_perovskite',\n",
       " 'load_ppb',\n",
       " 'load_qm7',\n",
       " 'load_qm8',\n",
       " 'load_qm9',\n",
       " 'load_sampl',\n",
       " 'load_sider',\n",
       " 'load_sweet',\n",
       " 'load_thermosol',\n",
       " 'load_tox21',\n",
       " 'load_toxcast',\n",
       " 'load_uspto',\n",
       " 'load_uv',\n",
       " 'load_zinc15']"
      ]
     },
     "execution_count": 20,
     "metadata": {},
     "output_type": "execute_result"
    }
   ],
   "source": [
    "[method for method in dir(dc.molnet) if \"load_\" in method ]"
   ]
  },
  {
   "cell_type": "code",
   "execution_count": 21,
   "metadata": {},
   "outputs": [
    {
     "data": {
      "text/plain": [
       "45"
      ]
     },
     "execution_count": 21,
     "metadata": {},
     "output_type": "execute_result"
    }
   ],
   "source": [
    "len([method for method in dir(dc.molnet) if \"load_\" in method ])"
   ]
  },
  {
   "cell_type": "code",
   "execution_count": null,
   "metadata": {},
   "outputs": [],
   "source": []
  }
 ],
 "metadata": {
  "kernelspec": {
   "display_name": "Python 3",
   "language": "python",
   "name": "python3"
  },
  "language_info": {
   "codemirror_mode": {
    "name": "ipython",
    "version": 3
   },
   "file_extension": ".py",
   "mimetype": "text/x-python",
   "name": "python",
   "nbconvert_exporter": "python",
   "pygments_lexer": "ipython3",
   "version": "3.11.9"
  }
 },
 "nbformat": 4,
 "nbformat_minor": 2
}
